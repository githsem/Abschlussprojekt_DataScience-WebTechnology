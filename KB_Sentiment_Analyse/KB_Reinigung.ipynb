{
 "cells": [
  {
   "cell_type": "code",
   "execution_count": 1,
   "id": "21d5bc76",
   "metadata": {},
   "outputs": [],
   "source": [
    "# pip install textblob"
   ]
  },
  {
   "cell_type": "code",
   "execution_count": 2,
   "id": "a05498bd",
   "metadata": {},
   "outputs": [],
   "source": [
    "import pandas as pd\n",
    "import numpy as np\n",
    "from textblob import TextBlob\n",
    "import matplotlib.pyplot as plt\n",
    "%matplotlib inline"
   ]
  },
  {
   "cell_type": "code",
   "execution_count": 3,
   "id": "b5bc3f14",
   "metadata": {},
   "outputs": [],
   "source": [
    "df = pd.read_csv(\"klinikbew.csv\")"
   ]
  },
  {
   "cell_type": "markdown",
   "id": "cb00cf38",
   "metadata": {},
   "source": [
    "## Missing Data"
   ]
  },
  {
   "cell_type": "code",
   "execution_count": 4,
   "id": "e8eb964b",
   "metadata": {},
   "outputs": [
    {
     "name": "stdout",
     "output_type": "stream",
     "text": [
      "<class 'pandas.core.frame.DataFrame'>\n",
      "RangeIndex: 3354 entries, 0 to 3353\n",
      "Data columns (total 9 columns):\n",
      " #   Column               Non-Null Count  Dtype \n",
      "---  ------               --------------  ----- \n",
      " 0   NameKlinik           3354 non-null   object\n",
      " 1   Titel                3352 non-null   object\n",
      " 2   DatumBewertung       3354 non-null   object\n",
      " 3   Fachbereich          3350 non-null   object\n",
      " 4   Erfahrungsbericht    3310 non-null   object\n",
      " 5   Gesamtzufriedenheit  3354 non-null   object\n",
      " 6   QualitätBeratung     3354 non-null   object\n",
      " 7   MedizBehandlung      3354 non-null   object\n",
      " 8   VerwaltungAblaeufe   3354 non-null   object\n",
      "dtypes: object(9)\n",
      "memory usage: 236.0+ KB\n"
     ]
    }
   ],
   "source": [
    "df.info()"
   ]
  },
  {
   "cell_type": "code",
   "execution_count": 5,
   "id": "0ea46131",
   "metadata": {},
   "outputs": [
    {
     "name": "stdout",
     "output_type": "stream",
     "text": [
      "Percentage of missing values of the columns:\n"
     ]
    },
    {
     "data": {
      "text/html": [
       "<div>\n",
       "<style scoped>\n",
       "    .dataframe tbody tr th:only-of-type {\n",
       "        vertical-align: middle;\n",
       "    }\n",
       "\n",
       "    .dataframe tbody tr th {\n",
       "        vertical-align: top;\n",
       "    }\n",
       "\n",
       "    .dataframe thead th {\n",
       "        text-align: right;\n",
       "    }\n",
       "</style>\n",
       "<table border=\"1\" class=\"dataframe\">\n",
       "  <thead>\n",
       "    <tr style=\"text-align: right;\">\n",
       "      <th></th>\n",
       "      <th>Count</th>\n",
       "      <th>Percentage</th>\n",
       "    </tr>\n",
       "  </thead>\n",
       "  <tbody>\n",
       "    <tr>\n",
       "      <th>Erfahrungsbericht</th>\n",
       "      <td>44</td>\n",
       "      <td>1.311866</td>\n",
       "    </tr>\n",
       "    <tr>\n",
       "      <th>Fachbereich</th>\n",
       "      <td>4</td>\n",
       "      <td>0.119261</td>\n",
       "    </tr>\n",
       "    <tr>\n",
       "      <th>Titel</th>\n",
       "      <td>2</td>\n",
       "      <td>0.059630</td>\n",
       "    </tr>\n",
       "    <tr>\n",
       "      <th>NameKlinik</th>\n",
       "      <td>0</td>\n",
       "      <td>0.000000</td>\n",
       "    </tr>\n",
       "    <tr>\n",
       "      <th>DatumBewertung</th>\n",
       "      <td>0</td>\n",
       "      <td>0.000000</td>\n",
       "    </tr>\n",
       "    <tr>\n",
       "      <th>Gesamtzufriedenheit</th>\n",
       "      <td>0</td>\n",
       "      <td>0.000000</td>\n",
       "    </tr>\n",
       "    <tr>\n",
       "      <th>QualitätBeratung</th>\n",
       "      <td>0</td>\n",
       "      <td>0.000000</td>\n",
       "    </tr>\n",
       "    <tr>\n",
       "      <th>MedizBehandlung</th>\n",
       "      <td>0</td>\n",
       "      <td>0.000000</td>\n",
       "    </tr>\n",
       "    <tr>\n",
       "      <th>VerwaltungAblaeufe</th>\n",
       "      <td>0</td>\n",
       "      <td>0.000000</td>\n",
       "    </tr>\n",
       "  </tbody>\n",
       "</table>\n",
       "</div>"
      ],
      "text/plain": [
       "                     Count  Percentage\n",
       "Erfahrungsbericht       44    1.311866\n",
       "Fachbereich              4    0.119261\n",
       "Titel                    2    0.059630\n",
       "NameKlinik               0    0.000000\n",
       "DatumBewertung           0    0.000000\n",
       "Gesamtzufriedenheit      0    0.000000\n",
       "QualitätBeratung         0    0.000000\n",
       "MedizBehandlung          0    0.000000\n",
       "VerwaltungAblaeufe       0    0.000000"
      ]
     },
     "execution_count": 5,
     "metadata": {},
     "output_type": "execute_result"
    }
   ],
   "source": [
    "count = df.isnull().sum().sort_values(ascending=False)\n",
    "percentage = ((df.isnull().sum()/len(df)*100)).sort_values(ascending=False)\n",
    "missing_data = pd.concat([count, percentage], axis=1, keys=['Count','Percentage'])\n",
    "\n",
    "print('Percentage of missing values of the columns:')\n",
    "\n",
    "missing_data"
   ]
  },
  {
   "cell_type": "markdown",
   "id": "b6e305c3",
   "metadata": {},
   "source": [
    "#### Dropping the missing values"
   ]
  },
  {
   "cell_type": "code",
   "execution_count": 6,
   "id": "d3f6b930",
   "metadata": {
    "scrolled": true
   },
   "outputs": [],
   "source": [
    "df = df.dropna()"
   ]
  },
  {
   "cell_type": "code",
   "execution_count": 7,
   "id": "26c66992",
   "metadata": {
    "scrolled": true
   },
   "outputs": [
    {
     "name": "stdout",
     "output_type": "stream",
     "text": [
      "<class 'pandas.core.frame.DataFrame'>\n",
      "Int64Index: 3304 entries, 0 to 3353\n",
      "Data columns (total 9 columns):\n",
      " #   Column               Non-Null Count  Dtype \n",
      "---  ------               --------------  ----- \n",
      " 0   NameKlinik           3304 non-null   object\n",
      " 1   Titel                3304 non-null   object\n",
      " 2   DatumBewertung       3304 non-null   object\n",
      " 3   Fachbereich          3304 non-null   object\n",
      " 4   Erfahrungsbericht    3304 non-null   object\n",
      " 5   Gesamtzufriedenheit  3304 non-null   object\n",
      " 6   QualitätBeratung     3304 non-null   object\n",
      " 7   MedizBehandlung      3304 non-null   object\n",
      " 8   VerwaltungAblaeufe   3304 non-null   object\n",
      "dtypes: object(9)\n",
      "memory usage: 258.1+ KB\n"
     ]
    }
   ],
   "source": [
    "df.info()"
   ]
  },
  {
   "cell_type": "code",
   "execution_count": 8,
   "id": "89cc504d",
   "metadata": {},
   "outputs": [],
   "source": [
    "df = df.drop_duplicates()"
   ]
  },
  {
   "cell_type": "code",
   "execution_count": 9,
   "id": "90e17b7c",
   "metadata": {},
   "outputs": [
    {
     "name": "stdout",
     "output_type": "stream",
     "text": [
      "<class 'pandas.core.frame.DataFrame'>\n",
      "Int64Index: 3304 entries, 0 to 3353\n",
      "Data columns (total 9 columns):\n",
      " #   Column               Non-Null Count  Dtype \n",
      "---  ------               --------------  ----- \n",
      " 0   NameKlinik           3304 non-null   object\n",
      " 1   Titel                3304 non-null   object\n",
      " 2   DatumBewertung       3304 non-null   object\n",
      " 3   Fachbereich          3304 non-null   object\n",
      " 4   Erfahrungsbericht    3304 non-null   object\n",
      " 5   Gesamtzufriedenheit  3304 non-null   object\n",
      " 6   QualitätBeratung     3304 non-null   object\n",
      " 7   MedizBehandlung      3304 non-null   object\n",
      " 8   VerwaltungAblaeufe   3304 non-null   object\n",
      "dtypes: object(9)\n",
      "memory usage: 258.1+ KB\n"
     ]
    }
   ],
   "source": [
    "df.info()"
   ]
  },
  {
   "cell_type": "markdown",
   "id": "ff0b1c62",
   "metadata": {},
   "source": [
    "## Befreien von Zeilen"
   ]
  },
  {
   "cell_type": "code",
   "execution_count": 10,
   "id": "3d978bf7",
   "metadata": {},
   "outputs": [],
   "source": [
    "df = df.replace('\\n',' ', regex=True)"
   ]
  },
  {
   "cell_type": "code",
   "execution_count": 11,
   "id": "1f4c03f6",
   "metadata": {
    "scrolled": true
   },
   "outputs": [
    {
     "data": {
      "text/html": [
       "<div>\n",
       "<style scoped>\n",
       "    .dataframe tbody tr th:only-of-type {\n",
       "        vertical-align: middle;\n",
       "    }\n",
       "\n",
       "    .dataframe tbody tr th {\n",
       "        vertical-align: top;\n",
       "    }\n",
       "\n",
       "    .dataframe thead th {\n",
       "        text-align: right;\n",
       "    }\n",
       "</style>\n",
       "<table border=\"1\" class=\"dataframe\">\n",
       "  <thead>\n",
       "    <tr style=\"text-align: right;\">\n",
       "      <th></th>\n",
       "      <th>NameKlinik</th>\n",
       "      <th>Titel</th>\n",
       "      <th>DatumBewertung</th>\n",
       "      <th>Fachbereich</th>\n",
       "      <th>Erfahrungsbericht</th>\n",
       "      <th>Gesamtzufriedenheit</th>\n",
       "      <th>QualitätBeratung</th>\n",
       "      <th>MedizBehandlung</th>\n",
       "      <th>VerwaltungAblaeufe</th>\n",
       "    </tr>\n",
       "  </thead>\n",
       "  <tbody>\n",
       "    <tr>\n",
       "      <th>0</th>\n",
       "      <td>HEH Herzogin Elisabeth Hospital</td>\n",
       "      <td>Bewertung</td>\n",
       "      <td>09.06.2021</td>\n",
       "      <td>Chirurgie</td>\n",
       "      <td>Sehr höfliche und hilfsbereite Mitarbeiter.  S...</td>\n",
       "      <td>star-6</td>\n",
       "      <td>star-6</td>\n",
       "      <td>star-6</td>\n",
       "      <td>star-6</td>\n",
       "    </tr>\n",
       "    <tr>\n",
       "      <th>1</th>\n",
       "      <td>HEH Herzogin Elisabeth Hospital</td>\n",
       "      <td>Weiter so HEH</td>\n",
       "      <td>09.06.2021</td>\n",
       "      <td>Chirurgie</td>\n",
       "      <td>Kann ich nur weiterempfehlen!! Sehr gutes Pfle...</td>\n",
       "      <td>star-6</td>\n",
       "      <td>star-4</td>\n",
       "      <td>star-6</td>\n",
       "      <td>star-4</td>\n",
       "    </tr>\n",
       "    <tr>\n",
       "      <th>2</th>\n",
       "      <td>HEH Herzogin Elisabeth Hospital</td>\n",
       "      <td>Superklinik</td>\n",
       "      <td>07.06.2021</td>\n",
       "      <td>Orthopädie</td>\n",
       "      <td>Bestens durchorganisiert.gutes Personal geht i...</td>\n",
       "      <td>star-6</td>\n",
       "      <td>star-6</td>\n",
       "      <td>star-6</td>\n",
       "      <td>star-6</td>\n",
       "    </tr>\n",
       "    <tr>\n",
       "      <th>3</th>\n",
       "      <td>HEH Herzogin Elisabeth Hospital</td>\n",
       "      <td>Kranken- oder Hotelzimmer?</td>\n",
       "      <td>25.05.2021</td>\n",
       "      <td>Unfallchirurgie</td>\n",
       "      <td>Bin nach einem Autounfall im HEH gewesen und h...</td>\n",
       "      <td>star-6</td>\n",
       "      <td>star-6</td>\n",
       "      <td>star-6</td>\n",
       "      <td>star-6</td>\n",
       "    </tr>\n",
       "    <tr>\n",
       "      <th>4</th>\n",
       "      <td>HEH Herzogin Elisabeth Hospital</td>\n",
       "      <td>Knie OP</td>\n",
       "      <td>11.05.2021</td>\n",
       "      <td>Orthopädie</td>\n",
       "      <td>Wurde bereits im Sept. 2020 am Knie operiert. ...</td>\n",
       "      <td>star-6</td>\n",
       "      <td>star-6</td>\n",
       "      <td>star-6</td>\n",
       "      <td>star-6</td>\n",
       "    </tr>\n",
       "  </tbody>\n",
       "</table>\n",
       "</div>"
      ],
      "text/plain": [
       "                        NameKlinik                       Titel DatumBewertung  \\\n",
       "0  HEH Herzogin Elisabeth Hospital                   Bewertung     09.06.2021   \n",
       "1  HEH Herzogin Elisabeth Hospital               Weiter so HEH     09.06.2021   \n",
       "2  HEH Herzogin Elisabeth Hospital                 Superklinik     07.06.2021   \n",
       "3  HEH Herzogin Elisabeth Hospital  Kranken- oder Hotelzimmer?     25.05.2021   \n",
       "4  HEH Herzogin Elisabeth Hospital                     Knie OP     11.05.2021   \n",
       "\n",
       "       Fachbereich                                  Erfahrungsbericht  \\\n",
       "0        Chirurgie  Sehr höfliche und hilfsbereite Mitarbeiter.  S...   \n",
       "1        Chirurgie  Kann ich nur weiterempfehlen!! Sehr gutes Pfle...   \n",
       "2       Orthopädie  Bestens durchorganisiert.gutes Personal geht i...   \n",
       "3  Unfallchirurgie  Bin nach einem Autounfall im HEH gewesen und h...   \n",
       "4       Orthopädie  Wurde bereits im Sept. 2020 am Knie operiert. ...   \n",
       "\n",
       "  Gesamtzufriedenheit QualitätBeratung MedizBehandlung VerwaltungAblaeufe  \n",
       "0              star-6           star-6          star-6             star-6  \n",
       "1              star-6           star-4          star-6             star-4  \n",
       "2              star-6           star-6          star-6             star-6  \n",
       "3              star-6           star-6          star-6             star-6  \n",
       "4              star-6           star-6          star-6             star-6  "
      ]
     },
     "execution_count": 11,
     "metadata": {},
     "output_type": "execute_result"
    }
   ],
   "source": [
    "df.head()"
   ]
  },
  {
   "cell_type": "markdown",
   "id": "df3771a6",
   "metadata": {},
   "source": [
    "### Sterne\n",
    "Sterne sind Texte, sollten in Zahlen geändert werden"
   ]
  },
  {
   "cell_type": "code",
   "execution_count": 12,
   "id": "14ed8807",
   "metadata": {},
   "outputs": [],
   "source": [
    "# Düzenle\n",
    "# np.vectorize(cleanup)(df['Gesamtzufriedenheit'])\n",
    "# def cleanup(name):\n",
    "  #  name = name.str.split('-').str[1]\n",
    "   # return name"
   ]
  },
  {
   "cell_type": "code",
   "execution_count": 13,
   "id": "f36ebc0d",
   "metadata": {
    "scrolled": true
   },
   "outputs": [],
   "source": [
    "df['Gesamt'] = df['Gesamtzufriedenheit'].str.split('-').str[1]\n",
    "df['QualBeratung'] = df['QualitätBeratung'].str.split('-').str[1]\n",
    "df['MedBehandlung'] = df['MedizBehandlung'].str.split('-').str[1]\n",
    "df['VerwalAblaeufe'] = df['VerwaltungAblaeufe'].str.split('-').str[1]"
   ]
  },
  {
   "cell_type": "code",
   "execution_count": 14,
   "id": "0f1a0b5c",
   "metadata": {
    "scrolled": true
   },
   "outputs": [],
   "source": [
    "df =df[['NameKlinik', 'Erfahrungsbericht', 'Gesamt']]"
   ]
  },
  {
   "cell_type": "code",
   "execution_count": 15,
   "id": "1c062807",
   "metadata": {
    "scrolled": false
   },
   "outputs": [
    {
     "data": {
      "text/html": [
       "<div>\n",
       "<style scoped>\n",
       "    .dataframe tbody tr th:only-of-type {\n",
       "        vertical-align: middle;\n",
       "    }\n",
       "\n",
       "    .dataframe tbody tr th {\n",
       "        vertical-align: top;\n",
       "    }\n",
       "\n",
       "    .dataframe thead th {\n",
       "        text-align: right;\n",
       "    }\n",
       "</style>\n",
       "<table border=\"1\" class=\"dataframe\">\n",
       "  <thead>\n",
       "    <tr style=\"text-align: right;\">\n",
       "      <th></th>\n",
       "      <th>NameKlinik</th>\n",
       "      <th>Erfahrungsbericht</th>\n",
       "      <th>Gesamt</th>\n",
       "    </tr>\n",
       "  </thead>\n",
       "  <tbody>\n",
       "    <tr>\n",
       "      <th>count</th>\n",
       "      <td>3304</td>\n",
       "      <td>3304</td>\n",
       "      <td>3304</td>\n",
       "    </tr>\n",
       "    <tr>\n",
       "      <th>unique</th>\n",
       "      <td>24</td>\n",
       "      <td>3303</td>\n",
       "      <td>4</td>\n",
       "    </tr>\n",
       "    <tr>\n",
       "      <th>top</th>\n",
       "      <td>Diana Klinik-Fachklinik für Physikalische Medizin</td>\n",
       "      <td>Die An- und Abreise im Januar 2013 waren perfe...</td>\n",
       "      <td>6</td>\n",
       "    </tr>\n",
       "    <tr>\n",
       "      <th>freq</th>\n",
       "      <td>326</td>\n",
       "      <td>2</td>\n",
       "      <td>1640</td>\n",
       "    </tr>\n",
       "  </tbody>\n",
       "</table>\n",
       "</div>"
      ],
      "text/plain": [
       "                                               NameKlinik  \\\n",
       "count                                                3304   \n",
       "unique                                                 24   \n",
       "top     Diana Klinik-Fachklinik für Physikalische Medizin   \n",
       "freq                                                  326   \n",
       "\n",
       "                                        Erfahrungsbericht Gesamt  \n",
       "count                                                3304   3304  \n",
       "unique                                               3303      4  \n",
       "top     Die An- und Abreise im Januar 2013 waren perfe...      6  \n",
       "freq                                                    2   1640  "
      ]
     },
     "execution_count": 15,
     "metadata": {},
     "output_type": "execute_result"
    }
   ],
   "source": [
    "df.describe()"
   ]
  },
  {
   "cell_type": "code",
   "execution_count": null,
   "id": "0144fe2b",
   "metadata": {},
   "outputs": [],
   "source": []
  },
  {
   "cell_type": "code",
   "execution_count": 16,
   "id": "ef09192d",
   "metadata": {},
   "outputs": [],
   "source": [
    "def starConverter(num):\n",
    "    if int(num) > 3:\n",
    "        happiness = 'pos'\n",
    "    else:\n",
    "        happiness = 'neg'\n",
    "    return happiness"
   ]
  },
  {
   "cell_type": "code",
   "execution_count": 17,
   "id": "d7137ed8",
   "metadata": {},
   "outputs": [],
   "source": [
    "df['Zufriedenheit'] = df['Gesamt'].apply(starConverter)"
   ]
  },
  {
   "cell_type": "code",
   "execution_count": 18,
   "id": "8f656404",
   "metadata": {},
   "outputs": [
    {
     "data": {
      "text/html": [
       "<div>\n",
       "<style scoped>\n",
       "    .dataframe tbody tr th:only-of-type {\n",
       "        vertical-align: middle;\n",
       "    }\n",
       "\n",
       "    .dataframe tbody tr th {\n",
       "        vertical-align: top;\n",
       "    }\n",
       "\n",
       "    .dataframe thead th {\n",
       "        text-align: right;\n",
       "    }\n",
       "</style>\n",
       "<table border=\"1\" class=\"dataframe\">\n",
       "  <thead>\n",
       "    <tr style=\"text-align: right;\">\n",
       "      <th></th>\n",
       "      <th>NameKlinik</th>\n",
       "      <th>Erfahrungsbericht</th>\n",
       "      <th>Gesamt</th>\n",
       "      <th>Zufriedenheit</th>\n",
       "    </tr>\n",
       "  </thead>\n",
       "  <tbody>\n",
       "    <tr>\n",
       "      <th>0</th>\n",
       "      <td>HEH Herzogin Elisabeth Hospital</td>\n",
       "      <td>Sehr höfliche und hilfsbereite Mitarbeiter.  S...</td>\n",
       "      <td>6</td>\n",
       "      <td>pos</td>\n",
       "    </tr>\n",
       "    <tr>\n",
       "      <th>1</th>\n",
       "      <td>HEH Herzogin Elisabeth Hospital</td>\n",
       "      <td>Kann ich nur weiterempfehlen!! Sehr gutes Pfle...</td>\n",
       "      <td>6</td>\n",
       "      <td>pos</td>\n",
       "    </tr>\n",
       "    <tr>\n",
       "      <th>2</th>\n",
       "      <td>HEH Herzogin Elisabeth Hospital</td>\n",
       "      <td>Bestens durchorganisiert.gutes Personal geht i...</td>\n",
       "      <td>6</td>\n",
       "      <td>pos</td>\n",
       "    </tr>\n",
       "    <tr>\n",
       "      <th>3</th>\n",
       "      <td>HEH Herzogin Elisabeth Hospital</td>\n",
       "      <td>Bin nach einem Autounfall im HEH gewesen und h...</td>\n",
       "      <td>6</td>\n",
       "      <td>pos</td>\n",
       "    </tr>\n",
       "    <tr>\n",
       "      <th>4</th>\n",
       "      <td>HEH Herzogin Elisabeth Hospital</td>\n",
       "      <td>Wurde bereits im Sept. 2020 am Knie operiert. ...</td>\n",
       "      <td>6</td>\n",
       "      <td>pos</td>\n",
       "    </tr>\n",
       "    <tr>\n",
       "      <th>...</th>\n",
       "      <td>...</td>\n",
       "      <td>...</td>\n",
       "      <td>...</td>\n",
       "      <td>...</td>\n",
       "    </tr>\n",
       "    <tr>\n",
       "      <th>3349</th>\n",
       "      <td>Diana Klinik-Fachklinik für Physikalische Medizin</td>\n",
       "      <td>Schematisches Konzept. Man sollte sagen, was m...</td>\n",
       "      <td>6</td>\n",
       "      <td>pos</td>\n",
       "    </tr>\n",
       "    <tr>\n",
       "      <th>3350</th>\n",
       "      <td>Diana Klinik-Fachklinik für Physikalische Medizin</td>\n",
       "      <td>Ich war von Maerz 2008 bis Ende April als Pati...</td>\n",
       "      <td>6</td>\n",
       "      <td>pos</td>\n",
       "    </tr>\n",
       "    <tr>\n",
       "      <th>3351</th>\n",
       "      <td>Diana Klinik-Fachklinik für Physikalische Medizin</td>\n",
       "      <td>Ich hatte dort einen 7-wöchigen Aufenthalt in ...</td>\n",
       "      <td>0</td>\n",
       "      <td>neg</td>\n",
       "    </tr>\n",
       "    <tr>\n",
       "      <th>3352</th>\n",
       "      <td>Diana Klinik-Fachklinik für Physikalische Medizin</td>\n",
       "      <td>Erstmal ist es sehr wichtig zu wissen, dass de...</td>\n",
       "      <td>0</td>\n",
       "      <td>neg</td>\n",
       "    </tr>\n",
       "    <tr>\n",
       "      <th>3353</th>\n",
       "      <td>Diana Klinik-Fachklinik für Physikalische Medizin</td>\n",
       "      <td>Ich war 2006 für 6 Wochen Patientin in der Dia...</td>\n",
       "      <td>4</td>\n",
       "      <td>pos</td>\n",
       "    </tr>\n",
       "  </tbody>\n",
       "</table>\n",
       "<p>3304 rows × 4 columns</p>\n",
       "</div>"
      ],
      "text/plain": [
       "                                             NameKlinik  \\\n",
       "0                       HEH Herzogin Elisabeth Hospital   \n",
       "1                       HEH Herzogin Elisabeth Hospital   \n",
       "2                       HEH Herzogin Elisabeth Hospital   \n",
       "3                       HEH Herzogin Elisabeth Hospital   \n",
       "4                       HEH Herzogin Elisabeth Hospital   \n",
       "...                                                 ...   \n",
       "3349  Diana Klinik-Fachklinik für Physikalische Medizin   \n",
       "3350  Diana Klinik-Fachklinik für Physikalische Medizin   \n",
       "3351  Diana Klinik-Fachklinik für Physikalische Medizin   \n",
       "3352  Diana Klinik-Fachklinik für Physikalische Medizin   \n",
       "3353  Diana Klinik-Fachklinik für Physikalische Medizin   \n",
       "\n",
       "                                      Erfahrungsbericht Gesamt Zufriedenheit  \n",
       "0     Sehr höfliche und hilfsbereite Mitarbeiter.  S...      6           pos  \n",
       "1     Kann ich nur weiterempfehlen!! Sehr gutes Pfle...      6           pos  \n",
       "2     Bestens durchorganisiert.gutes Personal geht i...      6           pos  \n",
       "3     Bin nach einem Autounfall im HEH gewesen und h...      6           pos  \n",
       "4     Wurde bereits im Sept. 2020 am Knie operiert. ...      6           pos  \n",
       "...                                                 ...    ...           ...  \n",
       "3349  Schematisches Konzept. Man sollte sagen, was m...      6           pos  \n",
       "3350  Ich war von Maerz 2008 bis Ende April als Pati...      6           pos  \n",
       "3351  Ich hatte dort einen 7-wöchigen Aufenthalt in ...      0           neg  \n",
       "3352  Erstmal ist es sehr wichtig zu wissen, dass de...      0           neg  \n",
       "3353  Ich war 2006 für 6 Wochen Patientin in der Dia...      4           pos  \n",
       "\n",
       "[3304 rows x 4 columns]"
      ]
     },
     "execution_count": 18,
     "metadata": {},
     "output_type": "execute_result"
    }
   ],
   "source": [
    "df"
   ]
  },
  {
   "cell_type": "markdown",
   "id": "5ce3245c",
   "metadata": {},
   "source": [
    "## Groupby"
   ]
  },
  {
   "cell_type": "code",
   "execution_count": 19,
   "id": "741971fb",
   "metadata": {
    "scrolled": true
   },
   "outputs": [
    {
     "data": {
      "text/plain": [
       "Diana Klinik-Fachklinik für Physikalische Medizin      326\n",
       "Agaplesion - Diakonieklinikum Rotenburg                297\n",
       "DIAKOVERE Henriettenstift                              241\n",
       "Klinikum Wolfsburg                                     232\n",
       "Klinik Fallingbostel                                   205\n",
       "MediClin Klinikum Soltau                               186\n",
       "AMEOS Klinikum Hildesheim                              171\n",
       "Klinikum Peine gGmbH                                   145\n",
       "AMEOS Klinikum Seepark Geestland                       144\n",
       "HEH Herzogin Elisabeth Hospital                        130\n",
       "HELIOS Klinik Cuxhaven                                 125\n",
       "Helios Kliniken Mittelweser - Krankenhaus Nienburg     124\n",
       "Kreiskrankenhaus Buchholz                              123\n",
       "KRH Klinikum Agness Karll Laatzen                      118\n",
       "Klinikum Wahrendorff                                   105\n",
       "Heidekreis-Klinikum GmbH - Krankenhaus Walsrode        104\n",
       "Kreiskrankenhaus Winsen                                 86\n",
       "Elbe Kliniken Stade - Buxtehude, Standort Buxtehude     82\n",
       "Klinik Am Zuckerberg                                    77\n",
       "Sophienklinik GmbH                                      76\n",
       "Krankenhaus St. Martini                                 63\n",
       "Psychiatrische Klinik Lüneburg                          51\n",
       "Eilenriede Klinik Hannover                              49\n",
       "Kreiskrankenhaus Osterholz                              44\n",
       "Name: NameKlinik, dtype: int64"
      ]
     },
     "execution_count": 19,
     "metadata": {},
     "output_type": "execute_result"
    }
   ],
   "source": [
    "df['NameKlinik'].value_counts()"
   ]
  },
  {
   "cell_type": "code",
   "execution_count": 20,
   "id": "a93afa54",
   "metadata": {},
   "outputs": [
    {
     "data": {
      "text/plain": [
       "<pandas.core.groupby.generic.DataFrameGroupBy object at 0x7f8c7cde9b50>"
      ]
     },
     "execution_count": 20,
     "metadata": {},
     "output_type": "execute_result"
    }
   ],
   "source": [
    "df.groupby('NameKlinik')"
   ]
  },
  {
   "cell_type": "markdown",
   "id": "ee791b3a",
   "metadata": {},
   "source": [
    "Distribution"
   ]
  },
  {
   "cell_type": "code",
   "execution_count": 21,
   "id": "e8cf54cb",
   "metadata": {},
   "outputs": [
    {
     "data": {
      "text/html": [
       "<div>\n",
       "<style scoped>\n",
       "    .dataframe tbody tr th:only-of-type {\n",
       "        vertical-align: middle;\n",
       "    }\n",
       "\n",
       "    .dataframe tbody tr th {\n",
       "        vertical-align: top;\n",
       "    }\n",
       "\n",
       "    .dataframe thead th {\n",
       "        text-align: right;\n",
       "    }\n",
       "</style>\n",
       "<table border=\"1\" class=\"dataframe\">\n",
       "  <thead>\n",
       "    <tr style=\"text-align: right;\">\n",
       "      <th></th>\n",
       "      <th>NameKlinik</th>\n",
       "      <th>Erfahrungsbericht</th>\n",
       "      <th>Gesamt</th>\n",
       "      <th>Zufriedenheit</th>\n",
       "    </tr>\n",
       "  </thead>\n",
       "  <tbody>\n",
       "    <tr>\n",
       "      <th>0</th>\n",
       "      <td>HEH Herzogin Elisabeth Hospital</td>\n",
       "      <td>Sehr höfliche und hilfsbereite Mitarbeiter.  S...</td>\n",
       "      <td>6</td>\n",
       "      <td>pos</td>\n",
       "    </tr>\n",
       "    <tr>\n",
       "      <th>1</th>\n",
       "      <td>HEH Herzogin Elisabeth Hospital</td>\n",
       "      <td>Kann ich nur weiterempfehlen!! Sehr gutes Pfle...</td>\n",
       "      <td>6</td>\n",
       "      <td>pos</td>\n",
       "    </tr>\n",
       "    <tr>\n",
       "      <th>2</th>\n",
       "      <td>HEH Herzogin Elisabeth Hospital</td>\n",
       "      <td>Bestens durchorganisiert.gutes Personal geht i...</td>\n",
       "      <td>6</td>\n",
       "      <td>pos</td>\n",
       "    </tr>\n",
       "    <tr>\n",
       "      <th>3</th>\n",
       "      <td>HEH Herzogin Elisabeth Hospital</td>\n",
       "      <td>Bin nach einem Autounfall im HEH gewesen und h...</td>\n",
       "      <td>6</td>\n",
       "      <td>pos</td>\n",
       "    </tr>\n",
       "    <tr>\n",
       "      <th>4</th>\n",
       "      <td>HEH Herzogin Elisabeth Hospital</td>\n",
       "      <td>Wurde bereits im Sept. 2020 am Knie operiert. ...</td>\n",
       "      <td>6</td>\n",
       "      <td>pos</td>\n",
       "    </tr>\n",
       "    <tr>\n",
       "      <th>...</th>\n",
       "      <td>...</td>\n",
       "      <td>...</td>\n",
       "      <td>...</td>\n",
       "      <td>...</td>\n",
       "    </tr>\n",
       "    <tr>\n",
       "      <th>3349</th>\n",
       "      <td>Diana Klinik-Fachklinik für Physikalische Medizin</td>\n",
       "      <td>Schematisches Konzept. Man sollte sagen, was m...</td>\n",
       "      <td>6</td>\n",
       "      <td>pos</td>\n",
       "    </tr>\n",
       "    <tr>\n",
       "      <th>3350</th>\n",
       "      <td>Diana Klinik-Fachklinik für Physikalische Medizin</td>\n",
       "      <td>Ich war von Maerz 2008 bis Ende April als Pati...</td>\n",
       "      <td>6</td>\n",
       "      <td>pos</td>\n",
       "    </tr>\n",
       "    <tr>\n",
       "      <th>3351</th>\n",
       "      <td>Diana Klinik-Fachklinik für Physikalische Medizin</td>\n",
       "      <td>Ich hatte dort einen 7-wöchigen Aufenthalt in ...</td>\n",
       "      <td>0</td>\n",
       "      <td>neg</td>\n",
       "    </tr>\n",
       "    <tr>\n",
       "      <th>3352</th>\n",
       "      <td>Diana Klinik-Fachklinik für Physikalische Medizin</td>\n",
       "      <td>Erstmal ist es sehr wichtig zu wissen, dass de...</td>\n",
       "      <td>0</td>\n",
       "      <td>neg</td>\n",
       "    </tr>\n",
       "    <tr>\n",
       "      <th>3353</th>\n",
       "      <td>Diana Klinik-Fachklinik für Physikalische Medizin</td>\n",
       "      <td>Ich war 2006 für 6 Wochen Patientin in der Dia...</td>\n",
       "      <td>4</td>\n",
       "      <td>pos</td>\n",
       "    </tr>\n",
       "  </tbody>\n",
       "</table>\n",
       "<p>3304 rows × 4 columns</p>\n",
       "</div>"
      ],
      "text/plain": [
       "                                             NameKlinik  \\\n",
       "0                       HEH Herzogin Elisabeth Hospital   \n",
       "1                       HEH Herzogin Elisabeth Hospital   \n",
       "2                       HEH Herzogin Elisabeth Hospital   \n",
       "3                       HEH Herzogin Elisabeth Hospital   \n",
       "4                       HEH Herzogin Elisabeth Hospital   \n",
       "...                                                 ...   \n",
       "3349  Diana Klinik-Fachklinik für Physikalische Medizin   \n",
       "3350  Diana Klinik-Fachklinik für Physikalische Medizin   \n",
       "3351  Diana Klinik-Fachklinik für Physikalische Medizin   \n",
       "3352  Diana Klinik-Fachklinik für Physikalische Medizin   \n",
       "3353  Diana Klinik-Fachklinik für Physikalische Medizin   \n",
       "\n",
       "                                      Erfahrungsbericht Gesamt Zufriedenheit  \n",
       "0     Sehr höfliche und hilfsbereite Mitarbeiter.  S...      6           pos  \n",
       "1     Kann ich nur weiterempfehlen!! Sehr gutes Pfle...      6           pos  \n",
       "2     Bestens durchorganisiert.gutes Personal geht i...      6           pos  \n",
       "3     Bin nach einem Autounfall im HEH gewesen und h...      6           pos  \n",
       "4     Wurde bereits im Sept. 2020 am Knie operiert. ...      6           pos  \n",
       "...                                                 ...    ...           ...  \n",
       "3349  Schematisches Konzept. Man sollte sagen, was m...      6           pos  \n",
       "3350  Ich war von Maerz 2008 bis Ende April als Pati...      6           pos  \n",
       "3351  Ich hatte dort einen 7-wöchigen Aufenthalt in ...      0           neg  \n",
       "3352  Erstmal ist es sehr wichtig zu wissen, dass de...      0           neg  \n",
       "3353  Ich war 2006 für 6 Wochen Patientin in der Dia...      4           pos  \n",
       "\n",
       "[3304 rows x 4 columns]"
      ]
     },
     "execution_count": 21,
     "metadata": {},
     "output_type": "execute_result"
    }
   ],
   "source": [
    "df"
   ]
  },
  {
   "cell_type": "code",
   "execution_count": 22,
   "id": "34e870dd",
   "metadata": {},
   "outputs": [
    {
     "name": "stdout",
     "output_type": "stream",
     "text": [
      "NameKlinik                                           Zufriedenheit\n",
      "AMEOS Klinikum Hildesheim                            neg              63.74\n",
      "                                                     pos              36.26\n",
      "AMEOS Klinikum Seepark Geestland                     pos              73.61\n",
      "                                                     neg              26.39\n",
      "Agaplesion - Diakonieklinikum Rotenburg              pos              55.56\n",
      "                                                     neg              44.44\n",
      "DIAKOVERE Henriettenstift                            pos              60.17\n",
      "                                                     neg              39.83\n",
      "Diana Klinik-Fachklinik für Physikalische Medizin    pos              73.31\n",
      "                                                     neg              26.69\n",
      "Eilenriede Klinik Hannover                           pos              85.71\n",
      "                                                     neg              14.29\n",
      "Elbe Kliniken Stade - Buxtehude, Standort Buxtehude  pos              69.51\n",
      "                                                     neg              30.49\n",
      "HEH Herzogin Elisabeth Hospital                      pos              80.77\n",
      "                                                     neg              19.23\n",
      "HELIOS Klinik Cuxhaven                               pos              56.80\n",
      "                                                     neg              43.20\n",
      "Heidekreis-Klinikum GmbH - Krankenhaus Walsrode      neg              50.96\n",
      "                                                     pos              49.04\n",
      "Helios Kliniken Mittelweser - Krankenhaus Nienburg   pos              54.84\n",
      "                                                     neg              45.16\n",
      "KRH Klinikum Agness Karll Laatzen                    pos              50.85\n",
      "                                                     neg              49.15\n",
      "Klinik Am Zuckerberg                                 pos              92.21\n",
      "                                                     neg               7.79\n",
      "Klinik Fallingbostel                                 pos              80.98\n",
      "                                                     neg              19.02\n",
      "Klinikum Peine gGmbH                                 pos              64.14\n",
      "                                                     neg              35.86\n",
      "Klinikum Wahrendorff                                 neg              53.33\n",
      "                                                     pos              46.67\n",
      "Klinikum Wolfsburg                                   pos              59.91\n",
      "                                                     neg              40.09\n",
      "Krankenhaus St. Martini                              pos              77.78\n",
      "                                                     neg              22.22\n",
      "Kreiskrankenhaus Buchholz                            neg              53.66\n",
      "                                                     pos              46.34\n",
      "Kreiskrankenhaus Osterholz                           pos              77.27\n",
      "                                                     neg              22.73\n",
      "Kreiskrankenhaus Winsen                              pos              58.14\n",
      "                                                     neg              41.86\n",
      "MediClin Klinikum Soltau                             pos              66.13\n",
      "                                                     neg              33.87\n",
      "Psychiatrische Klinik Lüneburg                       neg              66.67\n",
      "                                                     pos              33.33\n",
      "Sophienklinik GmbH                                   pos              63.16\n",
      "                                                     neg              36.84\n",
      "Name: Zufriedenheit, dtype: float64\n"
     ]
    },
    {
     "data": {
      "image/png": "[encoded data removed]",
      "text/plain": [
       "<Figure size 432x288 with 1 Axes>"
      ]
     },
     "metadata": {
      "needs_background": "light"
     },
     "output_type": "display_data"
    }
   ],
   "source": [
    "### Checking for the Distribution of Default ###\n",
    "print(round(df.groupby('NameKlinik').Zufriedenheit.value_counts(normalize=True)*100,2))\n",
    "round(df.groupby('NameKlinik').Zufriedenheit.value_counts(normalize=True)*100,2).plot(kind='bar')\n",
    "plt.title('Percentage Distributions by review type')\n",
    "plt.show()"
   ]
  },
  {
   "cell_type": "code",
   "execution_count": 23,
   "id": "ffcb11c6",
   "metadata": {},
   "outputs": [
    {
     "name": "stdout",
     "output_type": "stream",
     "text": [
      "IV_train : 2643\n",
      "IV_test  : 661\n",
      "DV_train : 2643\n",
      "DV_test  : 661\n"
     ]
    }
   ],
   "source": [
    "from sklearn.model_selection import train_test_split\n",
    "\n",
    "Independent_var = df.Erfahrungsbericht\n",
    "Dependent_var = df.Zufriedenheit\n",
    "\n",
    "IV_train, IV_test, DV_train, DV_test = train_test_split(Independent_var, Dependent_var, test_size = 0.2, random_state = 225)\n",
    "\n",
    "print('IV_train :', len(IV_train))\n",
    "print('IV_test  :', len(IV_test))\n",
    "print('DV_train :', len(DV_train))\n",
    "print('DV_test  :', len(DV_test))"
   ]
  },
  {
   "cell_type": "code",
   "execution_count": 24,
   "id": "777d45c1",
   "metadata": {},
   "outputs": [],
   "source": [
    "from sklearn.feature_extraction.text import TfidfVectorizer\n",
    "from sklearn.linear_model import LogisticRegression\n",
    "\n",
    "tvec = TfidfVectorizer()\n",
    "clf2 = LogisticRegression(solver = \"lbfgs\")\n",
    "\n",
    "\n",
    "from sklearn.pipeline import Pipeline"
   ]
  },
  {
   "cell_type": "code",
   "execution_count": 25,
   "id": "f4e5eb5e",
   "metadata": {},
   "outputs": [
    {
     "data": {
      "text/plain": [
       "array([[224,  25],\n",
       "       [ 31, 381]])"
      ]
     },
     "execution_count": 25,
     "metadata": {},
     "output_type": "execute_result"
    }
   ],
   "source": [
    "model = Pipeline([('vectorizer',tvec),('classifier',clf2)])\n",
    "\n",
    "model.fit(IV_train, DV_train)\n",
    "\n",
    "\n",
    "from sklearn.metrics import confusion_matrix\n",
    "\n",
    "predictions = model.predict(IV_test)\n",
    "\n",
    "confusion_matrix(predictions, DV_test)"
   ]
  },
  {
   "cell_type": "code",
   "execution_count": 26,
   "id": "88bb89dc",
   "metadata": {},
   "outputs": [
    {
     "name": "stdout",
     "output_type": "stream",
     "text": [
      "Accuracy :  0.9152798789712556\n",
      "Precision :  0.9158244381794661\n",
      "Recall :  0.9152798789712556\n"
     ]
    }
   ],
   "source": [
    "from sklearn.metrics import accuracy_score, precision_score, recall_score\n",
    "\n",
    "print(\"Accuracy : \", accuracy_score(predictions, DV_test))\n",
    "print(\"Precision : \", precision_score(predictions, DV_test, average = 'weighted'))\n",
    "print(\"Recall : \", recall_score(predictions, DV_test, average = 'weighted'))"
   ]
  },
  {
   "cell_type": "code",
   "execution_count": 31,
   "id": "e5683012",
   "metadata": {},
   "outputs": [
    {
     "name": "stdout",
     "output_type": "stream",
     "text": [
      "['neg']\n"
     ]
    }
   ],
   "source": [
    "# example = [\"Augenscheinlich braucht diese Klinik in Corona-Zeiten Geld und tut alles, um dieses von den Krankenkassen zu bekommen!Patientin war meine 3 Monate alte Tochter. Es handelte sich um eine geplante Operation, die durchaus auch als ambulante OP vorgenommen wird. Den Grund, warum die stationäre Aufnahme notwendig war, konnte mir niemand erläutern!Bei der vorstationären Aufnahme wurde ich daraufhingewiesen, dass ich Windeln und Nahrung für mein Kind selbst mitzubringen hätte. Das Nahrung mitzubringen ist, konnte ich nachvollziehen, da es hier sehr viele verschiedene Angebote gibt und die Klinik unmöglich alle Sorten vorhalten kann! Aber Windeln? Das ist für eine Klinik mit Kinderorthopädie als Fachrichtung nicht nachvollziehbar!Das Zimmer war ein normales Doppelzimmer mit einem Gitterbettchen für meine Tochter und einem Krankenbett für mich. Im Zimmer gab es weder einen Wickelplatz noch Feuchttücher bzw. einen Windeleimer o. Ä. Wickelzubehör!Mehrere Ärzte bzw. Schwestern kannten, trotz Krankenakte in ihren Händen, nicht einmal das Geschlecht meiner Tochter.Nach der OP übten sich die Schwestern auf der Station in vornehmer Zurückhaltung! Niemand interessierte sich für den Gesundheitszustand meiner Tochter! Die verordneten Schmerzmittel wurden 1,5 Stunden zu spät gebracht und interessiert, ob ich diese meiner Tochter gebe oder nicht hat es niemanden!Am Entlassungstag sprachen die meist sehr unfreundlichen Stationsschwestern von einem Verbandswechsel, der absolut nicht notwendig und für die Behandlung meiner Tochter auch nicht vorgesehen war.Die Entlassungspapiere und der Arztbrief für den behandelnden Orthopäden wurden vor der Entlassungsvisite fertig gemacht, obwohl im Arztbrief das Ergebnis der Entlassungsvisite steht! Scheinbar kann in der Klinik jemand hellsehen.\"]\n",
    "example=[\"Viele böse Menschen\"]\n",
    "result = model.predict(example)\n",
    "\n",
    "print(result)"
   ]
  },
  {
   "cell_type": "code",
   "execution_count": null,
   "id": "e973fb44",
   "metadata": {},
   "outputs": [],
   "source": []
  }
 ],
 "metadata": {
  "kernelspec": {
   "display_name": "Python 3",
   "language": "python",
   "name": "python3"
  },
  "language_info": {
   "codemirror_mode": {
    "name": "ipython",
    "version": 3
   },
   "file_extension": ".py",
   "mimetype": "text/x-python",
   "name": "python",
   "nbconvert_exporter": "python",
   "pygments_lexer": "ipython3",
   "version": "3.8.8"
  }
 },
 "nbformat": 4,
 "nbformat_minor": 5
}
